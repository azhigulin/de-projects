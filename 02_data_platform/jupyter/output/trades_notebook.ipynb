{
 "cells": [
  {
   "cell_type": "code",
   "execution_count": 1,
   "metadata": {},
   "outputs": [],
   "source": [
    "import psycopg2\n",
    "import pandas as pd\n",
    "\n",
    "# Create a connection\n",
    "conn = psycopg2.connect(\n",
    "    host='db',  # Use the service name from Docker Compose as the hostname\n",
    "    port=5432,\n",
    "    dbname='tradedb',\n",
    "    user='postgres',\n",
    "    password='postgres'\n",
    ")\n",
    "\n",
    "# Create a cursor object\n",
    "cur = conn.cursor()\n",
    "\n",
    "# Execute a query\n",
    "cur.execute(\"SELECT * FROM raw.trades\")\n",
    "\n",
    "# Fetch the results\n",
    "rows = cur.fetchall()\n",
    "\n",
    "# Get the column names from the cursor description\n",
    "columns = [desc[0] for desc in cur.description]\n",
    "\n",
    "# Create a DataFrame\n",
    "df = pd.DataFrame(rows, columns=columns)\n",
    "df2 = pd.DataFrame(rows, columns=columns)\n",
    "\n",
    "# Create alias\n",
    "raw_trades_df = df\n",
    "\n",
    "# Adding a date column to the DataFrame\n",
    "raw_trades_df['date'] = raw_trades_df['timestamp'].dt.date\n",
    "\n",
    "# Create a new column 'prev_side' to store the previous side value for each account_id, symbol, and date\n",
    "raw_trades_df['prev_side'] = raw_trades_df.sort_values(by='timestamp').groupby(['account_id', 'symbol', 'date'])['side'].shift()\n",
    "\n",
    "# Filter rows where side is 'sell' and prev_side is 'buy'\n",
    "buy_sell_pairs_df = raw_trades_df[(raw_trades_df['side'] == 'sell') & (raw_trades_df['prev_side'] == 'buy')]\n",
    "\n",
    "# Group by account_id and count the number of pattern day trades\n",
    "pdt_count_df = buy_sell_pairs_df.groupby('account_id').size().reset_index(name='pdt_count')\n",
    "\n",
    "# Sort by pdt_count in descending order\n",
    "pdt_count_df.sort_values(by='pdt_count', ascending=False, inplace=True)\n",
    "\n",
    "pdt_count_df\n",
    "\n",
    "# Write DataFrame to CSV\n",
    "pdt_count_df.to_csv('pdt_count.csv', index=False)\n",
    "\n",
    "# Close the cursor and connection\n",
    "cur.close()\n",
    "conn.close()"
   ]
  },
  {
   "cell_type": "code",
   "execution_count": null,
   "metadata": {},
   "outputs": [],
   "source": []
  }
 ],
 "metadata": {
  "kernelspec": {
   "display_name": "Python 3 (ipykernel)",
   "language": "python",
   "name": "python3"
  },
  "language_info": {
   "codemirror_mode": {
    "name": "ipython",
    "version": 3
   },
   "file_extension": ".py",
   "mimetype": "text/x-python",
   "name": "python",
   "nbconvert_exporter": "python",
   "pygments_lexer": "ipython3",
   "version": "3.11.6"
  }
 },
 "nbformat": 4,
 "nbformat_minor": 4
}
