{
 "cells": [
  {
   "cell_type": "code",
   "execution_count": 7,
   "metadata": {},
   "outputs": [
    {
     "ename": "NameError",
     "evalue": "name 'pdt_count_df' is not defined",
     "output_type": "error",
     "traceback": [
      "\u001b[0;31m---------------------------------------------------------------------------\u001b[0m",
      "\u001b[0;31mNameError\u001b[0m                                 Traceback (most recent call last)",
      "Cell \u001b[0;32mIn[7], line 59\u001b[0m\n\u001b[1;32m     56\u001b[0m grouped_df \u001b[38;5;241m=\u001b[39m df\u001b[38;5;241m.\u001b[39mgroupby(\u001b[38;5;124m'\u001b[39m\u001b[38;5;124maccount_id\u001b[39m\u001b[38;5;124m'\u001b[39m)[\u001b[38;5;124m'\u001b[39m\u001b[38;5;124mday_trades\u001b[39m\u001b[38;5;124m'\u001b[39m]\u001b[38;5;241m.\u001b[39msum()\u001b[38;5;241m.\u001b[39mreset_index()\n\u001b[1;32m     58\u001b[0m \u001b[38;5;66;03m# Write DataFrame to CSV\u001b[39;00m\n\u001b[0;32m---> 59\u001b[0m \u001b[43mpdt_count_df\u001b[49m\u001b[38;5;241m.\u001b[39mto_csv(\u001b[38;5;124m'\u001b[39m\u001b[38;5;124mpdt_count.csv\u001b[39m\u001b[38;5;124m'\u001b[39m, index\u001b[38;5;241m=\u001b[39m\u001b[38;5;28;01mFalse\u001b[39;00m)\n\u001b[1;32m     61\u001b[0m \u001b[38;5;28mprint\u001b[39m(pdt_count_df)\n\u001b[1;32m     63\u001b[0m \u001b[38;5;66;03m# # Close the cursor and connection\u001b[39;00m\n\u001b[1;32m     64\u001b[0m \u001b[38;5;66;03m# cur.close()\u001b[39;00m\n\u001b[1;32m     65\u001b[0m \u001b[38;5;66;03m# conn.close()\u001b[39;00m\n",
      "\u001b[0;31mNameError\u001b[0m: name 'pdt_count_df' is not defined"
     ]
    }
   ],
   "source": [
    "import psycopg2\n",
    "import pandas as pd\n",
    "\n",
    "# Create a connection\n",
    "conn = psycopg2.connect(\n",
    "    host='db',  # Use the service name from Docker Compose as the hostname\n",
    "    port=5432,\n",
    "    dbname='tradedb',\n",
    "    user='postgres',\n",
    "    password='postgres'\n",
    ")\n",
    "\n",
    "# Create a cursor object\n",
    "cur = conn.cursor()\n",
    "\n",
    "# Execute a query\n",
    "cur.execute(\"SELECT * FROM raw.trades\")\n",
    "\n",
    "# Fetch the results\n",
    "rows = cur.fetchall()\n",
    "\n",
    "# Get the column names from the cursor description\n",
    "columns = [desc[0] for desc in cur.description]\n",
    "\n",
    "# Create a DataFrame\n",
    "df = pd.DataFrame(rows, columns=columns)\n",
    "\n",
    "# Convert the 'timestamp' column to date\n",
    "df['date'] = pd.to_datetime(df['timestamp']).dt.date\n",
    "\n",
    "# # # Sort the DataFrame by account_id, symbol, and timestamp\n",
    "df = df.sort_values(by=['account_id', 'symbol', 'timestamp'])\n",
    "\n",
    "df.reset_index(drop=True, inplace=True)\n",
    "\n",
    "# Assuming df is your DataFrame\n",
    "# Add a new column initialized to 0\n",
    "df['day_trades'] = 0\n",
    "\n",
    "# Iterate over the DataFrame starting from the second row\n",
    "for i in range(1, len(df)):\n",
    "    # Check conditions\n",
    "    if (df.loc[i, 'account_id'] == df.loc[i-1, 'account_id'] and\n",
    "        df.loc[i, 'symbol'] == df.loc[i-1, 'symbol'] and\n",
    "        df.loc[i, 'date'] == df.loc[i-1, 'date']):\n",
    "        \n",
    "        if df.loc[i-1, 'day_trades'] == 1:\n",
    "            df.loc[i, 'day_trades'] = 0\n",
    "        elif df.loc[i, 'side'] != df.loc[i-1, 'side']:\n",
    "            df.loc[i, 'day_trades'] = 1\n",
    "        else:\n",
    "            df.loc[i, 'day_trades'] = 0\n",
    "    else:\n",
    "        df.loc[i, 'day_trades'] = 0\n",
    "\n",
    "grouped_df = df.groupby('account_id')['day_trades'].sum().reset_index()\n",
    "\n",
    "# Write DataFrame to CSV\n",
    "pdt_count_df.to_csv('pdt_count.csv', index=False)\n",
    "\n",
    "print(pdt_count_df)\n",
    "\n",
    "# # Close the cursor and connection\n",
    "# cur.close()\n",
    "# conn.close()"
   ]
  },
  {
   "cell_type": "code",
   "execution_count": null,
   "metadata": {},
   "outputs": [],
   "source": []
  }
 ],
 "metadata": {
  "kernelspec": {
   "display_name": "Python 3 (ipykernel)",
   "language": "python",
   "name": "python3"
  },
  "language_info": {
   "codemirror_mode": {
    "name": "ipython",
    "version": 3
   },
   "file_extension": ".py",
   "mimetype": "text/x-python",
   "name": "python",
   "nbconvert_exporter": "python",
   "pygments_lexer": "ipython3",
   "version": "3.11.6"
  }
 },
 "nbformat": 4,
 "nbformat_minor": 4
}
